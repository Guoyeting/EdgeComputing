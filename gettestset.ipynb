{
 "cells": [
  {
   "cell_type": "code",
   "execution_count": 1,
   "metadata": {},
   "outputs": [],
   "source": [
    "import pandas as pd\n",
    "import numpy as np\n",
    "import pdb\n",
    "from tqdm import tqdm"
   ]
  },
  {
   "cell_type": "code",
   "execution_count": 2,
   "metadata": {},
   "outputs": [],
   "source": [
    "def get_sequences():\n",
    "    data = pd.read_csv('data/weeplace_filter.csv')\n",
    "    return data"
   ]
  },
  {
   "cell_type": "code",
   "execution_count": 3,
   "metadata": {},
   "outputs": [],
   "source": [
    "raw_data = get_sequences()\n",
    "all_pois = set(raw_data['POI_ID'].unique())"
   ]
  },
  {
   "cell_type": "code",
   "execution_count": 4,
   "metadata": {},
   "outputs": [],
   "source": [
    "grouped_seqs = raw_data.groupby('group_id')"
   ]
  },
  {
   "cell_type": "code",
   "execution_count": 5,
   "metadata": {},
   "outputs": [],
   "source": [
    "user_visits = dict()\n",
    "for gname, group in raw_data.groupby('userid'):\n",
    "    user_visits[gname] = group['POI_ID']"
   ]
  },
  {
   "cell_type": "code",
   "execution_count": 6,
   "metadata": {},
   "outputs": [],
   "source": [
    "n_negs = 100\n",
    "test_negs = np.random.choice(list(all_pois), [grouped_seqs.grouper.ngroups, n_negs]).astype(int)"
   ]
  },
  {
   "cell_type": "code",
   "execution_count": 7,
   "metadata": {
    "scrolled": false
   },
   "outputs": [
    {
     "name": "stderr",
     "output_type": "stream",
     "text": [
      "100%|██████████| 338492/338492 [22:57<00:00, 245.70it/s] \n"
     ]
    }
   ],
   "source": [
    "for i, (_, seq) in tqdm(enumerate(grouped_seqs), total = grouped_seqs.grouper.ngroups):\n",
    "    userid = seq.iloc[:6]['userid'].values[0]\n",
    "    cand_negs = test_negs[i]\n",
    "    if len(set(cand_negs).intersection(set(user_visits[userid]))) != 0:\n",
    "        test_negs[i,:] = np.random.choice(list(all_pois.difference(set(user_visits[userid]))),  n_negs).astype(int)"
   ]
  },
  {
   "cell_type": "code",
   "execution_count": 8,
   "metadata": {},
   "outputs": [],
   "source": [
    "np.save('data/test_array', test_negs)"
   ]
  },
  {
   "cell_type": "code",
   "execution_count": null,
   "metadata": {},
   "outputs": [],
   "source": []
  }
 ],
 "metadata": {
  "kernelspec": {
   "display_name": "Python 3",
   "language": "python",
   "name": "python3"
  },
  "language_info": {
   "codemirror_mode": {
    "name": "ipython",
    "version": 3
   },
   "file_extension": ".py",
   "mimetype": "text/x-python",
   "name": "python",
   "nbconvert_exporter": "python",
   "pygments_lexer": "ipython3",
   "version": "3.6.8"
  }
 },
 "nbformat": 4,
 "nbformat_minor": 2
}
